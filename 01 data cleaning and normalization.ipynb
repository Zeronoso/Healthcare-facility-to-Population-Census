{
 "cells": [
  {
   "cell_type": "code",
   "execution_count": 37,
   "metadata": {},
   "outputs": [],
   "source": [
    "import pandas as pd\n",
    "import chardet\n",
    "from geopy.geocoders import Nominatim\n",
    "import time\n",
    "\n",
    "odhf_data = 'csv files/odhf_v1.1.csv'\n",
    "population_data = 'csv files/population census.csv'"
   ]
  },
  {
   "cell_type": "code",
   "execution_count": 10,
   "metadata": {},
   "outputs": [
    {
     "name": "stdout",
     "output_type": "stream",
     "text": [
      "{'encoding': 'Windows-1252', 'confidence': 0.73, 'language': ''}\n"
     ]
    }
   ],
   "source": [
    "with open(odhf_data, 'rb') as f:                 #finding the encoding type so I can read the csv file\n",
    "    rawdata = f.read(10000)               \n",
    "    result = chardet.detect(rawdata)\n",
    "    print(result)"
   ]
  },
  {
   "cell_type": "code",
   "execution_count": null,
   "metadata": {},
   "outputs": [
    {
     "name": "stdout",
     "output_type": "stream",
     "text": [
      "source_facility_type         1350\n",
      "unit                         7028\n",
      "street_no                     594\n",
      "street_name                   520\n",
      "city                           23\n",
      "source_format_str_address    3098\n",
      "CSDname                        39\n",
      "CSDuid                        484\n",
      "latitude                      484\n",
      "longitude                     484\n",
      "dtype: int64\n"
     ]
    }
   ],
   "source": [
    "df = pd.read_csv(odhf_data, encoding='Windows-1252')\n",
    "\n",
    "missing_data = df.isnull().sum()\n",
    "print(missing_data[missing_data > 0])                       # identifying missing data. "
   ]
  },
  {
   "cell_type": "code",
   "execution_count": null,
   "metadata": {},
   "outputs": [],
   "source": [
    "missing_city_df = df[df['city'].isnull()]\n",
    "missing_city_df.to_csv('missing_city_data.csv', index=False)            # create a csv file of all rows with missing cities. Then manually search and add cities based on geographical coordinates."
   ]
  },
  {
   "cell_type": "code",
   "execution_count": 17,
   "metadata": {},
   "outputs": [],
   "source": [
    "df_cleaned = df.dropna(subset=['city'])                                                 # removing rows without cities from the original dataset\n",
    "updated_missing_city_df = pd.read_csv('csv files/missing_city_data.csv')\n",
    "combined_df = pd.concat([df_cleaned, updated_missing_city_df], ignore_index=True)       # combining missing city data with original dataset to create a new, cleaned dataset\n",
    "combined_df.to_csv('combined_healthcare_data.csv', index=False)"
   ]
  },
  {
   "cell_type": "code",
   "execution_count": 33,
   "metadata": {},
   "outputs": [
    {
     "name": "stdout",
     "output_type": "stream",
     "text": [
      "source_facility_type         1350\n",
      "unit                         7028\n",
      "street_no                     594\n",
      "street_name                   520\n",
      "source_format_str_address    3098\n",
      "CSDname                        39\n",
      "CSDuid                        484\n",
      "latitude                      484\n",
      "longitude                     484\n",
      "dtype: int64\n"
     ]
    }
   ],
   "source": [
    "df = pd.read_csv('combined_healthcare_data.csv')\n",
    "\n",
    "missing_data = df.isnull().sum()\n",
    "print(missing_data[missing_data > 0])    "
   ]
  },
  {
   "cell_type": "code",
   "execution_count": null,
   "metadata": {},
   "outputs": [],
   "source": [
    "odhf_data = 'csv files/combined_healthcare_data.csv'\n",
    "odhf_df = pd.read_csv(odhf_data)\n",
    "\n",
    "geolocator = Nominatim(user_agent=\"odhf_geocoder\")\n",
    "\n",
    "def geocode_city_province(row):\n",
    "    location = geolocator.geocode(f\"{row['city']}, {row['province']}, Canada\")              # function to use geocode on each row with a missing latitude/longitude using the city/province rows data.\n",
    "    if location:\n",
    "        return pd.Series([location.latitude, location.longitude])\n",
    "    else:\n",
    "        return pd.Series([None, None])\n",
    "\n",
    "\n",
    "for idx, row in odhf_df[odhf_df['latitude'].isnull()].iterrows():                           # applying the function\n",
    "    lat, lon = geocode_city_province(row)\n",
    "    odhf_df.at[idx, 'latitude'] = lat\n",
    "    odhf_df.at[idx, 'longitude'] = lon\n",
    "    time.sleep(1)                                                                           # using a 1 second delay due to Nominatim's rate limit\n",
    "\n",
    "odhf_df.to_csv('odhf_geocoded.csv', index=False)"
   ]
  },
  {
   "cell_type": "code",
   "execution_count": 47,
   "metadata": {},
   "outputs": [],
   "source": [
    "odhf_cleaned_df = pd.read_csv('csv files/odhf_geocoded.csv')\n",
    "odhf_cleaned_df = odhf_cleaned_df.drop(columns=['CSDname', 'CSDuid', 'Pruid', 'source_format_str_address'])     # dropping irrelevent columns for the final csv file to simplify data\n",
    "odhf_cleaned_df.rename(columns={'city': 'geographic_name'}, inplace=True)                                       # renaming 'city' to 'geographic name' to normalize with the same column in the population census database\n",
    "odhf_cleaned_df.to_csv('odhf_cleaned.csv', index=False)\n"
   ]
  },
  {
   "cell_type": "code",
   "execution_count": null,
   "metadata": {},
   "outputs": [],
   "source": [
    "\n"
   ]
  }
 ],
 "metadata": {
  "kernelspec": {
   "display_name": "base",
   "language": "python",
   "name": "python3"
  },
  "language_info": {
   "codemirror_mode": {
    "name": "ipython",
    "version": 3
   },
   "file_extension": ".py",
   "mimetype": "text/x-python",
   "name": "python",
   "nbconvert_exporter": "python",
   "pygments_lexer": "ipython3",
   "version": "3.12.4"
  }
 },
 "nbformat": 4,
 "nbformat_minor": 2
}
