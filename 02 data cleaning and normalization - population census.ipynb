{
 "cells": [
  {
   "cell_type": "code",
   "execution_count": 57,
   "metadata": {},
   "outputs": [],
   "source": [
    "import pandas as pd"
   ]
  },
  {
   "cell_type": "code",
   "execution_count": null,
   "metadata": {},
   "outputs": [
    {
     "name": "stdout",
     "output_type": "stream",
     "text": [
      "Missing data in each column:\n",
      " Unnamed: 0                                       0\n",
      "Unnamed: 1                                       0\n",
      "Population and dwelling counts (13)              0\n",
      "Population, 2021                                 0\n",
      "Population, 2016                                 0\n",
      "Population percentage change, 2016 to 2021       0\n",
      "Land area in square kilometres, 2021             0\n",
      "Population density per square kilometre, 2021    0\n",
      "dtype: int64\n",
      "Unnamed: 0                                        object\n",
      "Unnamed: 1                                        object\n",
      "Population and dwelling counts (13)               object\n",
      "Population, 2021                                  object\n",
      "Population, 2016                                  object\n",
      "Population percentage change, 2016 to 2021       float64\n",
      "Land area in square kilometres, 2021              object\n",
      "Population density per square kilometre, 2021     object\n",
      "dtype: object\n"
     ]
    }
   ],
   "source": [
    "census_data = pd.read_csv('csv files/population census.csv')\n",
    "missing_data = census_data.isnull().sum()\n",
    "print(\"Missing data in each column:\\n\", missing_data)\n",
    "print(census_data.dtypes)"
   ]
  },
  {
   "cell_type": "code",
   "execution_count": null,
   "metadata": {},
   "outputs": [],
   "source": [
    "census_data['Population, 2021'] = pd.to_numeric(census_data['Population, 2021'].astype(str).str.replace(',', ''))                                               # Remove commas and convert to numeric data types\n",
    "census_data['Population, 2016'] = pd.to_numeric(census_data['Population, 2016'].astype(str).str.replace(',', '').str.replace('r', ''))\n",
    "census_data['Land area in square kilometres, 2021'] = pd.to_numeric(census_data['Land area in square kilometres, 2021'].astype(str).str.replace(',', ''))\n",
    "census_data['Population density per square kilometre, 2021'] = pd.to_numeric(census_data['Population density per square kilometre, 2021'].astype(str).str.replace(',', ''))\n",
    "\n",
    "\n",
    "census_data.rename(columns={                                                                # Rename columns for easier access\n",
    "    'Population, 2021': 'population_2021',\n",
    "    'Population, 2016': 'population_2016',\n",
    "    'Population percentage change, 2016 to 2021': 'population_change_2016_2021',\n",
    "    'Land area in square kilometres, 2021': 'land_area_km2',\n",
    "    'Population density per square kilometre, 2021': 'population_density_km2'\n",
    "}, inplace=True)\n"
   ]
  },
  {
   "cell_type": "code",
   "execution_count": 60,
   "metadata": {},
   "outputs": [
    {
     "name": "stdout",
     "output_type": "stream",
     "text": [
      "odhf abbreviations: ['ab' 'bc' 'mb' 'nb' 'nl' 'ns' 'nt' 'nu' 'on' 'pe' 'qc' 'sk' 'yt'] population cenus abbreviations: ['Province or territory abbreviation' '...' 'N.L.' 'P.E.I.' 'N.S.' 'N.B.'\n",
      " 'N.B. / Que.' 'Que.' 'Ont.' 'Ont. / Que.' 'Man.' 'Sask.' 'Alta.'\n",
      " 'Alta. / Sask.' 'B.C.' 'Y.T.' 'N.W.T.' 'Nvt.']\n"
     ]
    }
   ],
   "source": [
    "odhf_cleaned = pd.read_csv('cleaned csv files/odhf_cleaned.csv')\n",
    "\n",
    "unique_odhf_provinces = odhf_cleaned['province'].unique()\n",
    "unique_cenus_provinces = census_data['Population and dwelling counts (13)'].unique()\n",
    "print(\"odhf abbreviations:\",unique_odhf_provinces,\"population cenus abbreviations:\", unique_cenus_provinces)\n",
    "      \n"
   ]
  },
  {
   "cell_type": "code",
   "execution_count": 61,
   "metadata": {},
   "outputs": [],
   "source": [
    "abbreviation_normalization = {\n",
    "    'N.L.':     'nl',\n",
    "    'P.E.I.':    'pe',\n",
    "    'N.S.':      'ns',\n",
    "    'N.B.':      'nb',\n",
    "    'Que.':     'qc',\n",
    "    'Ont.':     'on',\n",
    "    'Man.':     'mb',\n",
    "    'Sask.':    'sk',\n",
    "    'Alta.':    'ab',\n",
    "    'B.C.':     'bc',\n",
    "    'Y.T.':     'yt',\n",
    "    'N.W.T.':   'nt',\n",
    "    'Nvt.':     'nu'\n",
    "}\n",
    "\n",
    "census_data['Population and dwelling counts (13)'] = census_data['Population and dwelling counts (13)'].replace(abbreviation_normalization)       # normalizing the provinces column between both databases\n",
    "\n",
    "multi_province_rows = census_data['Population and dwelling counts (13)'].str.contains('/', na=False)                                              # deleting entries that contain aggregated data from cities apart of 2 or more provinces\n",
    "census_data = census_data[~multi_province_rows]"
   ]
  },
  {
   "cell_type": "code",
   "execution_count": null,
   "metadata": {},
   "outputs": [],
   "source": [
    "census_data.rename(columns={'Population and dwelling counts (13)': 'province'}, inplace=True)                                                     # renaming the 'Population and dwelling counts (13)' to 'province' to match the odhf_cleaned.csv index column name\n",
    "\n",
    "census_data.to_csv('population_census_cleaned.csv', index=False)"
   ]
  },
  {
   "cell_type": "code",
   "execution_count": null,
   "metadata": {},
   "outputs": [
    {
     "name": "stdout",
     "output_type": "stream",
     "text": [
      "9478627\n"
     ]
    }
   ],
   "source": [
    "bc_population_sum = census_data[census_data['province'] == 'bc']['population_2021'].sum()  ## Sum the 'population_2021' values for rows where 'province' is 'bc'\n",
    "\n",
    "print(bc_population_sum)"
   ]
  },
  {
   "cell_type": "code",
   "execution_count": null,
   "metadata": {},
   "outputs": [
    {
     "name": "stdout",
     "output_type": "stream",
     "text": [
      "9478627\n"
     ]
    }
   ],
   "source": [
    "test_df = pd.read_csv('csv files/population census.csv')\n",
    "test_df['Population, 2021'] = pd.to_numeric(test_df['Population, 2021'].astype(str).str.replace(',', '').str.replace('r', ''))   # same as above but using the original population census csv file to confirm previous result\n",
    "bc_population_sum = test_df[test_df['Population and dwelling counts (13)'] == 'B.C.']['Population, 2021'].sum()\n",
    "\n",
    "\n",
    "print(bc_population_sum)"
   ]
  }
 ],
 "metadata": {
  "kernelspec": {
   "display_name": "base",
   "language": "python",
   "name": "python3"
  },
  "language_info": {
   "codemirror_mode": {
    "name": "ipython",
    "version": 3
   },
   "file_extension": ".py",
   "mimetype": "text/x-python",
   "name": "python",
   "nbconvert_exporter": "python",
   "pygments_lexer": "ipython3",
   "version": "3.12.4"
  }
 },
 "nbformat": 4,
 "nbformat_minor": 2
}
